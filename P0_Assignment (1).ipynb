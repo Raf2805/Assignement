{
 "cells": [
  {
   "cell_type": "markdown",
   "id": "52d79f0a-4357-40d6-97f0-0b6371904b46",
   "metadata": {},
   "source": [
    "## Exercise 1: Basics"
   ]
  },
  {
   "cell_type": "markdown",
   "id": "a0dc84da-4244-4dea-936b-7a54accfe6db",
   "metadata": {},
   "source": [
    "### 1.1 \n",
    "\n",
    "Add a markdown cell for each of the following content:\n",
    "\n",
    "- Cell1: A level 3 header titled \"Markdown Cell\"\n",
    "- Cell2: The following text: \"This is a markdown cell\"\n",
    "- Cell3: The following text in bold: \"This is bold text\"\n",
    "- Cell4: The following text in italics: \"This text is italicized\""
   ]
  },
  {
   "cell_type": "markdown",
   "id": "3d1c48d8-b514-46cf-bf6e-3f7ee97d92c6",
   "metadata": {},
   "source": [
    "### Markdown Cell"
   ]
  },
  {
   "cell_type": "markdown",
   "id": "adab4827-b33a-42f4-bad0-58929f49ffa0",
   "metadata": {},
   "source": [
    "This is a markdown cell"
   ]
  },
  {
   "cell_type": "markdown",
   "id": "435860e7-18c1-4496-a17b-dc51c9042ed3",
   "metadata": {},
   "source": [
    "**This is bold text**"
   ]
  },
  {
   "cell_type": "markdown",
   "id": "b5659965-cb03-40d9-a9cb-9147b26d8995",
   "metadata": {},
   "source": [
    "*This text is italicized*"
   ]
  },
  {
   "cell_type": "markdown",
   "id": "bec92677-eb0b-48b9-a889-f215c9fce941",
   "metadata": {},
   "source": [
    "### 1.2\n",
    "\n",
    "Add a code cell below. You can choose what you want to write in the cell (e.g. define a variable)"
   ]
  },
  {
   "cell_type": "code",
   "execution_count": 14,
   "id": "944ac683-5963-4410-b942-9a60c5650f5e",
   "metadata": {},
   "outputs": [
    {
     "name": "stdout",
     "output_type": "stream",
     "text": [
      "28\n"
     ]
    }
   ],
   "source": [
    "number = 28\n",
    "print(number)"
   ]
  },
  {
   "cell_type": "markdown",
   "id": "3b48d123-2404-4945-b3e2-ee523729e14d",
   "metadata": {},
   "source": [
    "## Exercise 2\n",
    "\n",
    "Add a line break right after the first full-stop. You cannot use the enter/return key.\n",
    "\n",
    "\"The weather is clear today. Hopefully it doesn't rain.\""
   ]
  },
  {
   "cell_type": "markdown",
   "id": "14819d15-da02-4ad3-a59b-f44e426a3214",
   "metadata": {},
   "source": [
    "The weather is clear today.<br> Hopefully it doesn't rain"
   ]
  },
  {
   "cell_type": "markdown",
   "id": "b21e9fd4-a0a5-4039-a5bf-bfd383e8eadd",
   "metadata": {},
   "source": [
    "## Exercise 3\n",
    "\n",
    "Create a bullet list with the following items: apples, oranges, bananas, tomatoes"
   ]
  },
  {
   "cell_type": "markdown",
   "id": "8fde4ad5-00f4-4c17-b6e9-97dafccc434b",
   "metadata": {},
   "source": [
    "- apples\n",
    "- oranges\n",
    "- bananas\n",
    "- tomatoes"
   ]
  },
  {
   "cell_type": "markdown",
   "id": "e59fe862-fe7f-473c-a996-9317a3d44241",
   "metadata": {},
   "source": [
    "## Exercise 4\n",
    "\n",
    "Insert a horizontal line below this cell."
   ]
  },
  {
   "cell_type": "markdown",
   "id": "7658f665-68cc-431e-a783-09c0d008246f",
   "metadata": {},
   "source": [
    "---"
   ]
  },
  {
   "cell_type": "markdown",
   "id": "ad3150ff-4372-445f-8be4-d1d892d12374",
   "metadata": {},
   "source": [
    "## The End!"
   ]
  }
 ],
 "metadata": {
  "kernelspec": {
   "display_name": "Python 3 (ipykernel)",
   "language": "python",
   "name": "python3"
  },
  "language_info": {
   "codemirror_mode": {
    "name": "ipython",
    "version": 3
   },
   "file_extension": ".py",
   "mimetype": "text/x-python",
   "name": "python",
   "nbconvert_exporter": "python",
   "pygments_lexer": "ipython3",
   "version": "3.12.4"
  }
 },
 "nbformat": 4,
 "nbformat_minor": 5
}
